{
 "cells": [
  {
   "cell_type": "markdown",
   "metadata": {},
   "source": [
    "# 'Utilities' needed, to be moved to own file with time"
   ]
  },
  {
   "cell_type": "code",
   "execution_count": 5,
   "metadata": {},
   "outputs": [],
   "source": [
    "import matplotlib.pyplot as plt\n",
    "from mpl_toolkits.mplot3d import Axes3D\n",
    "from sklearn import gaussian_process\n",
    "from sklearn.gaussian_process.kernels import RBF\n",
    "from matplotlib import interactive\n",
    "import numpy as np\n",
    "import scipy.stats\n",
    "from numpy.linalg import inv\n",
    "import matplotlib.pyplot as plt\n",
    "\n",
    "def plot_gp(mu, cov, X, X_train = None, y_train = None, samples = []):\n",
    "    X = X.ravel()\n",
    "    mu = mu.ravel()\n",
    "    conf_interval = 1.96 * np.sqrt(np.diag(cov))\n",
    "\n",
    "    plt.fill_between(X, mu + conf_interval, mu - conf_interval, alpha = 0.3)\n",
    "    for i, sample in enumerate(samples):\n",
    "        plt.plot(X, sample, lw = 1, ls = ':', label = f'Sample {i + 1}')\n",
    "\n",
    "    if X_train is not None:\n",
    "        plt.plot(X_train[0:-1], y_train[0:-1], 'kx')\n",
    "        plt.plot(X_train[-1], y_train[-1], 'rx')\n",
    "        plt.plot(X, mu, lw = 1, label = 'Mean function', color = 'black')\n",
    "    plt.ylim(-1, 5)\n",
    "    plt.legend()\n",
    "    plt.show()\n",
    "\n",
    "def plot_acq_function(X, mu, stdevs, y_max, acq_func, **params):\n",
    "    acq_values = acq_func(mu, stdevs, y_max, **params)\n",
    "    plt.plot(X, acq_values[-1], lw = 1.5, label = 'Acquisition function value')\n",
    "    plt.show()\n",
    "\n",
    "    \n",
    "# EXAMPLE FUNCTIONS\n",
    "def example_func(X_val):\n",
    "    return np.exp(np.sin(np.power(X_val - 4 , 2)) + 0.5)\n",
    "\n",
    "# EXAMPLE FUNCTIONS\n",
    "def example_func2(X_val):\n",
    "    return (-1) *(np.sin(np.power(X_val - 1 , 2)) + np.exp(X_val/3.1) - X_val/2) + 4\n",
    "\n",
    "\n",
    "def example_2d(X1, X2):\n",
    "    return np.array(np.sin(np.sqrt(X1 ** 2 + X2 ** 2)) + X1/5).reshape(-1, 1)\n",
    "\n",
    "\n",
    "# ACQUISITION FUNCTIONS\n",
    "# takes one point and evaluates the acq.function at said point\n",
    "def expected_imp(mu_n, std_n, y_max, epsilon = 1):\n",
    "    norm_y = (mu_n - y_max - epsilon) / std_n\n",
    "    return (-1) * (norm_y * std_n * scipy.stats.norm.pdf(norm_y) + std_n * scipy.stats.norm.cdf(norm_y))\n",
    "\n",
    "def prob_imp(mu_n, std_n, y_max, epsilon = 1):\n",
    "    norm_y = (mu_n - y_max - epsilon)/std_n\n",
    "    return scipy.stats.norm.cdf(norm_y)\n",
    "\n",
    "def UCB(mu_n, std_n, y_max, beta = 20):\n",
    "    return mu_n + std_n * beta\n",
    "\n",
    "\n",
    "# KERNELS\n",
    "# X1 - Point in n-dim room for which cov. is to be computed, m * d\n",
    "# X2 - points already computed, n * d\n",
    "# computing covariance matrix between X and X_other\n",
    "def squared_exp(X1, X2, l = 1.0, sigma_f = 1.0): \n",
    "    \n",
    "    sqdist = np.sum(np.power(X1, 2), 1).reshape(-1, 1) + np.sum(np.power(X2, 2), 1) - 2 * np.dot(X1, X2.T)\n",
    "    return np.power(sigma_f, 2) * np.exp((-0.5)/np.power(l, 2) * sqdist)\n",
    "\n",
    "def matern52(X1, X2, sigma_f = 1.0, sigma_l = 1.0):\n",
    "    sqdist = np.sum(np.power(X1, 2), 1).reshape(-1, 1) + np.sum(np.power(X2, 2), 1) - 2 * np.dot(X1, X2.T)\n",
    "    \n",
    "    return np.power(sigma_f, 2) * (1 + np.sqrt(5) * sqdist/ sigma_l + np.power((np.sqrt(5) * sqdist/ sigma_l), 2)\n",
    "                                   ) * np.exp((-1)*np.sqrt(5) * sqdist/sigma_l)\n",
    "\n"
   ]
  },
  {
   "cell_type": "markdown",
   "metadata": {},
   "source": [
    "# Bayesian Optimization functions, may be moved to separate"
   ]
  },
  {
   "cell_type": "code",
   "execution_count": 6,
   "metadata": {},
   "outputs": [],
   "source": [
    "def compute_posterior(X, X_train, y_train, kernel):\n",
    "\n",
    "    K = kernel(X_train, X_train) + 1e-10 *np.eye(len(X_train))\n",
    "    k_n = kernel(X, X_train)\n",
    "\n",
    "    # sample length * sample length in size\n",
    "    k_nn = kernel(X, X) + 1e-10 * np.eye(len(X))\n",
    "    K_inv = inv(K)\n",
    "    mu = k_n.dot(K_inv).dot(y_train)\n",
    "    cov = k_nn - k_n.dot(K_inv).dot(k_n.T)\n",
    "    print('K.shape', K.shape, '\\n')\n",
    "    print('k_n.shape', k_n.shape, '\\n')\n",
    "    print('k_nn.shape', k_nn.shape, '\\n')\n",
    "    print('K_inv.shape', K_inv.shape, '\\n')\n",
    "    \n",
    "    \n",
    "    return mu, cov\n",
    "\n",
    "def query_random_points(no_points, X, objective):\n",
    "    points = np.random.randint(0, X.shape[0] - 1, size = (no_points, X.shape[1]))\n",
    "    X_train = np.array([[X[points[i][dim]][dim] for dim in range(X.shape[1])] for i in range(no_points)])\n",
    "    y_train =  objective(X_train[:,0], X_train[:,1])\n",
    "    return X_train, y_train\n",
    "\n",
    "def find_next_point(y_max, mu, cov, acq_func):\n",
    "    acq_values = acq_func(mu, cov, y_max)\n",
    "    X_next = np.argmax(acq_values)\n",
    "    return X_next"
   ]
  },
  {
   "cell_type": "code",
   "execution_count": 8,
   "metadata": {},
   "outputs": [
    {
     "name": "stdout",
     "output_type": "stream",
     "text": [
      "[32.       31.872128 31.744512 ... 31.744512 31.872128 32.      ]\n",
      "(1001, 2) (1001, 2) (1001, 1001)\n",
      "[12.56512  14.32832  17.7616    6.106432  2.277952]\n",
      "[32.       31.872128 31.744512 ... 31.744512 31.872128 32.      ]\n",
      "[32.       31.872128 31.744512 ... 31.744512 31.872128 32.      ]\n",
      "K.shape (5, 5) \n",
      "\n",
      "k_n.shape (1001, 5) \n",
      "\n",
      "k_nn.shape (1001, 1001) \n",
      "\n",
      "K_inv.shape (5, 5) \n",
      "\n",
      "(1001, 1) (1001, 1001)\n"
     ]
    },
    {
     "ename": "TypeError",
     "evalue": "example_2d() missing 1 required positional argument: 'X2'",
     "output_type": "error",
     "traceback": [
      "\u001b[1;31m---------------------------------------------------------------------------\u001b[0m",
      "\u001b[1;31mTypeError\u001b[0m                                 Traceback (most recent call last)",
      "\u001b[1;32m<ipython-input-8-9a77c038aaba>\u001b[0m in \u001b[0;36m<module>\u001b[1;34m\u001b[0m\n\u001b[0;32m     30\u001b[0m         \u001b[0mplot_gp\u001b[0m\u001b[1;33m(\u001b[0m\u001b[0mmu\u001b[0m\u001b[1;33m,\u001b[0m \u001b[0mcov\u001b[0m\u001b[1;33m,\u001b[0m \u001b[0mX\u001b[0m\u001b[1;33m,\u001b[0m \u001b[0mX_train\u001b[0m \u001b[1;33m=\u001b[0m \u001b[0mX_train\u001b[0m\u001b[1;33m,\u001b[0m \u001b[0my_train\u001b[0m \u001b[1;33m=\u001b[0m \u001b[0my_train\u001b[0m\u001b[1;33m)\u001b[0m\u001b[1;33m\u001b[0m\u001b[1;33m\u001b[0m\u001b[0m\n\u001b[0;32m     31\u001b[0m \u001b[1;33m\u001b[0m\u001b[0m\n\u001b[1;32m---> 32\u001b[1;33m \u001b[0mbayesian_optimization\u001b[0m\u001b[1;33m(\u001b[0m\u001b[0mexample_2d\u001b[0m\u001b[1;33m,\u001b[0m \u001b[1;36m5\u001b[0m\u001b[1;33m,\u001b[0m \u001b[1;36m30\u001b[0m\u001b[1;33m,\u001b[0m \u001b[1;33m{\u001b[0m\u001b[1;34m'X1'\u001b[0m\u001b[1;33m:\u001b[0m\u001b[1;33m[\u001b[0m\u001b[1;33m-\u001b[0m\u001b[1;36m4\u001b[0m\u001b[1;33m,\u001b[0m \u001b[1;36m4\u001b[0m\u001b[1;33m]\u001b[0m\u001b[1;33m,\u001b[0m \u001b[1;34m'X2'\u001b[0m\u001b[1;33m:\u001b[0m\u001b[1;33m[\u001b[0m\u001b[1;33m-\u001b[0m\u001b[1;36m4\u001b[0m\u001b[1;33m,\u001b[0m \u001b[1;36m4\u001b[0m\u001b[1;33m]\u001b[0m\u001b[1;33m}\u001b[0m\u001b[1;33m)\u001b[0m\u001b[1;33m\u001b[0m\u001b[1;33m\u001b[0m\u001b[0m\n\u001b[0m",
      "\u001b[1;32m<ipython-input-8-9a77c038aaba>\u001b[0m in \u001b[0;36mbayesian_optimization\u001b[1;34m(objective, no_initial, no_iters, X_range, kernel, acq_func)\u001b[0m\n\u001b[0;32m     23\u001b[0m         \u001b[1;31m# Find the next point to evaluate, X_next - WORKS\u001b[0m\u001b[1;33m\u001b[0m\u001b[1;33m\u001b[0m\u001b[1;33m\u001b[0m\u001b[0m\n\u001b[0;32m     24\u001b[0m         \u001b[0mX_next\u001b[0m \u001b[1;33m=\u001b[0m \u001b[0mX\u001b[0m\u001b[1;33m[\u001b[0m\u001b[0mfind_next_point\u001b[0m\u001b[1;33m(\u001b[0m\u001b[0my_max\u001b[0m\u001b[1;33m,\u001b[0m \u001b[0mmu\u001b[0m\u001b[1;33m,\u001b[0m \u001b[0mstd\u001b[0m\u001b[1;33m,\u001b[0m \u001b[0macq_func\u001b[0m\u001b[1;33m)\u001b[0m\u001b[1;33m]\u001b[0m\u001b[1;33m\u001b[0m\u001b[1;33m\u001b[0m\u001b[0m\n\u001b[1;32m---> 25\u001b[1;33m         \u001b[0mX_train\u001b[0m\u001b[1;33m,\u001b[0m \u001b[0my_train\u001b[0m \u001b[1;33m=\u001b[0m \u001b[0mnp\u001b[0m\u001b[1;33m.\u001b[0m\u001b[0mappend\u001b[0m\u001b[1;33m(\u001b[0m\u001b[0mX_train\u001b[0m\u001b[1;33m,\u001b[0m \u001b[0mX_next\u001b[0m\u001b[1;33m)\u001b[0m\u001b[1;33m.\u001b[0m\u001b[0mreshape\u001b[0m\u001b[1;33m(\u001b[0m\u001b[1;33m-\u001b[0m\u001b[1;36m1\u001b[0m\u001b[1;33m,\u001b[0m \u001b[1;36m1\u001b[0m\u001b[1;33m)\u001b[0m\u001b[1;33m,\u001b[0m \u001b[0mnp\u001b[0m\u001b[1;33m.\u001b[0m\u001b[0mappend\u001b[0m\u001b[1;33m(\u001b[0m\u001b[0my_train\u001b[0m\u001b[1;33m,\u001b[0m \u001b[0mobjective\u001b[0m\u001b[1;33m(\u001b[0m\u001b[0mX_next\u001b[0m\u001b[1;33m)\u001b[0m\u001b[1;33m)\u001b[0m\u001b[1;33m.\u001b[0m\u001b[0mreshape\u001b[0m\u001b[1;33m(\u001b[0m\u001b[1;33m-\u001b[0m\u001b[1;36m1\u001b[0m\u001b[1;33m,\u001b[0m \u001b[1;36m1\u001b[0m\u001b[1;33m)\u001b[0m\u001b[1;33m\u001b[0m\u001b[1;33m\u001b[0m\u001b[0m\n\u001b[0m\u001b[0;32m     26\u001b[0m         \u001b[0mprint\u001b[0m\u001b[1;33m(\u001b[0m\u001b[1;34m'Evaluating: '\u001b[0m\u001b[1;33m,\u001b[0m \u001b[0mX_next\u001b[0m\u001b[1;33m)\u001b[0m\u001b[1;33m\u001b[0m\u001b[1;33m\u001b[0m\u001b[0m\n\u001b[0;32m     27\u001b[0m \u001b[1;33m\u001b[0m\u001b[0m\n",
      "\u001b[1;31mTypeError\u001b[0m: example_2d() missing 1 required positional argument: 'X2'"
     ]
    }
   ],
   "source": [
    "def bayesian_optimization(objective, no_initial, no_iters, X_range, kernel = squared_exp, acq_func = UCB):\n",
    "# Creating function and parameters to be optimized\n",
    "    # objective - known or unknown function to be optimized\n",
    "    # params - list of parameter names and their associated ranges in dict form\n",
    "\n",
    "    # Creates a proper grid for x for the input range, 4001 samples (must be column vector) - WORKS\n",
    "    X = np.array([np.linspace(X_range[key][0], X_range[key][1], 1001) for key in X_range.keys()]).T \n",
    "    mu = np.zeros(X.shape)\n",
    "    cov = squared_exp(X, X)\n",
    "    \n",
    "    print(X.shape, mu.shape, cov.shape)\n",
    "    # query_next_point FOR a number of random points equal to no_initial - WORKS\n",
    "    X_train, y_train = query_random_points(no_initial, X, objective)\n",
    "\n",
    "    # compute_posterior when done - for range of X, training samples (X_train, y_train)\n",
    "    mu, cov = compute_posterior(X, X_train, y_train, kernel)\n",
    "    print(mu.shape, cov.shape)\n",
    "    #plot_gp(mu, cov, X, X_train = X_train, y_train = y_train)\n",
    "    \n",
    "    for iter in range(no_iters):\n",
    "        y_max = y_train.max()\n",
    "        std = (np.sqrt(np.diag(cov)+ 1e-10 * np.ones(cov.shape[0])).reshape(-1, 1)) \n",
    "        # Find the next point to evaluate, X_next - WORKS\n",
    "        X_next = X[find_next_point(y_max, mu, std, acq_func)]\n",
    "        X_train, y_train = np.append(X_train, X_next).reshape(-1, 1), np.append(y_train, objective(X_next)).reshape(-1, 1)\n",
    "        print('Evaluating: ', X_next)\n",
    "    \n",
    "        mu, cov = compute_posterior(X, X_train, y_train, kernel)\n",
    "        \n",
    "        plot_gp(mu, cov, X, X_train = X_train, y_train = y_train)\n",
    "            \n",
    "bayesian_optimization(example_2d, 5, 30, {'X1':[-4, 4], 'X2':[-4, 4]})"
   ]
  },
  {
   "cell_type": "code",
   "execution_count": 9,
   "metadata": {},
   "outputs": [
    {
     "ename": "ValueError",
     "evalue": "shape mismatch: objects cannot be broadcast to a single shape",
     "output_type": "error",
     "traceback": [
      "\u001b[1;31m---------------------------------------------------------------------------\u001b[0m",
      "\u001b[1;31mValueError\u001b[0m                                Traceback (most recent call last)",
      "\u001b[1;32m<ipython-input-9-fcd270ab60c1>\u001b[0m in \u001b[0;36m<module>\u001b[1;34m\u001b[0m\n\u001b[0;32m     10\u001b[0m \u001b[0mfig\u001b[0m \u001b[1;33m=\u001b[0m \u001b[0mplt\u001b[0m\u001b[1;33m.\u001b[0m\u001b[0mfigure\u001b[0m\u001b[1;33m(\u001b[0m\u001b[1;33m)\u001b[0m\u001b[1;33m\u001b[0m\u001b[1;33m\u001b[0m\u001b[0m\n\u001b[0;32m     11\u001b[0m \u001b[0max\u001b[0m \u001b[1;33m=\u001b[0m \u001b[0mfig\u001b[0m\u001b[1;33m.\u001b[0m\u001b[0madd_subplot\u001b[0m\u001b[1;33m(\u001b[0m\u001b[1;36m111\u001b[0m\u001b[1;33m,\u001b[0m \u001b[0mprojection\u001b[0m \u001b[1;33m=\u001b[0m \u001b[1;34m'3d'\u001b[0m\u001b[1;33m)\u001b[0m\u001b[1;33m\u001b[0m\u001b[1;33m\u001b[0m\u001b[0m\n\u001b[1;32m---> 12\u001b[1;33m \u001b[0max\u001b[0m\u001b[1;33m.\u001b[0m\u001b[0mplot_wireframe\u001b[0m\u001b[1;33m(\u001b[0m\u001b[0mX1\u001b[0m\u001b[1;33m,\u001b[0m \u001b[0mX2\u001b[0m\u001b[1;33m,\u001b[0m \u001b[0my\u001b[0m\u001b[1;33m,\u001b[0m \u001b[0mrstride\u001b[0m \u001b[1;33m=\u001b[0m \u001b[1;36m30\u001b[0m\u001b[1;33m,\u001b[0m \u001b[0mcstride\u001b[0m \u001b[1;33m=\u001b[0m \u001b[1;36m30\u001b[0m\u001b[1;33m)\u001b[0m\u001b[1;33m\u001b[0m\u001b[1;33m\u001b[0m\u001b[0m\n\u001b[0m\u001b[0;32m     13\u001b[0m \u001b[0max\u001b[0m\u001b[1;33m.\u001b[0m\u001b[0mplot_wireframe\u001b[0m\u001b[1;33m(\u001b[0m\u001b[0mX1\u001b[0m\u001b[1;33m,\u001b[0m \u001b[0mX2\u001b[0m\u001b[1;33m,\u001b[0m \u001b[0my\u001b[0m\u001b[1;33m,\u001b[0m \u001b[0mrstride\u001b[0m \u001b[1;33m=\u001b[0m \u001b[1;36m30\u001b[0m\u001b[1;33m,\u001b[0m \u001b[0mcstride\u001b[0m \u001b[1;33m=\u001b[0m \u001b[1;36m30\u001b[0m\u001b[1;33m)\u001b[0m\u001b[1;33m\u001b[0m\u001b[1;33m\u001b[0m\u001b[0m\n\u001b[0;32m     14\u001b[0m \u001b[0minteractive\u001b[0m\u001b[1;33m(\u001b[0m\u001b[1;32mTrue\u001b[0m\u001b[1;33m)\u001b[0m\u001b[1;33m\u001b[0m\u001b[1;33m\u001b[0m\u001b[0m\n",
      "\u001b[1;32m~\\Anaconda3\\lib\\site-packages\\mpl_toolkits\\mplot3d\\axes3d.py\u001b[0m in \u001b[0;36mplot_wireframe\u001b[1;34m(self, X, Y, Z, *args, **kwargs)\u001b[0m\n\u001b[0;32m   1841\u001b[0m             \u001b[1;32mraise\u001b[0m \u001b[0mValueError\u001b[0m\u001b[1;33m(\u001b[0m\u001b[1;34m\"Argument Z must be 2-dimensional.\"\u001b[0m\u001b[1;33m)\u001b[0m\u001b[1;33m\u001b[0m\u001b[1;33m\u001b[0m\u001b[0m\n\u001b[0;32m   1842\u001b[0m         \u001b[1;31m# FIXME: Support masked arrays\u001b[0m\u001b[1;33m\u001b[0m\u001b[1;33m\u001b[0m\u001b[1;33m\u001b[0m\u001b[0m\n\u001b[1;32m-> 1843\u001b[1;33m         \u001b[0mX\u001b[0m\u001b[1;33m,\u001b[0m \u001b[0mY\u001b[0m\u001b[1;33m,\u001b[0m \u001b[0mZ\u001b[0m \u001b[1;33m=\u001b[0m \u001b[0mnp\u001b[0m\u001b[1;33m.\u001b[0m\u001b[0mbroadcast_arrays\u001b[0m\u001b[1;33m(\u001b[0m\u001b[0mX\u001b[0m\u001b[1;33m,\u001b[0m \u001b[0mY\u001b[0m\u001b[1;33m,\u001b[0m \u001b[0mZ\u001b[0m\u001b[1;33m)\u001b[0m\u001b[1;33m\u001b[0m\u001b[1;33m\u001b[0m\u001b[0m\n\u001b[0m\u001b[0;32m   1844\u001b[0m         \u001b[0mrows\u001b[0m\u001b[1;33m,\u001b[0m \u001b[0mcols\u001b[0m \u001b[1;33m=\u001b[0m \u001b[0mZ\u001b[0m\u001b[1;33m.\u001b[0m\u001b[0mshape\u001b[0m\u001b[1;33m\u001b[0m\u001b[1;33m\u001b[0m\u001b[0m\n\u001b[0;32m   1845\u001b[0m \u001b[1;33m\u001b[0m\u001b[0m\n",
      "\u001b[1;32m~\\Anaconda3\\lib\\site-packages\\numpy\\lib\\stride_tricks.py\u001b[0m in \u001b[0;36mbroadcast_arrays\u001b[1;34m(*args, **kwargs)\u001b[0m\n\u001b[0;32m    257\u001b[0m     \u001b[0margs\u001b[0m \u001b[1;33m=\u001b[0m \u001b[1;33m[\u001b[0m\u001b[0mnp\u001b[0m\u001b[1;33m.\u001b[0m\u001b[0marray\u001b[0m\u001b[1;33m(\u001b[0m\u001b[0m_m\u001b[0m\u001b[1;33m,\u001b[0m \u001b[0mcopy\u001b[0m\u001b[1;33m=\u001b[0m\u001b[1;32mFalse\u001b[0m\u001b[1;33m,\u001b[0m \u001b[0msubok\u001b[0m\u001b[1;33m=\u001b[0m\u001b[0msubok\u001b[0m\u001b[1;33m)\u001b[0m \u001b[1;32mfor\u001b[0m \u001b[0m_m\u001b[0m \u001b[1;32min\u001b[0m \u001b[0margs\u001b[0m\u001b[1;33m]\u001b[0m\u001b[1;33m\u001b[0m\u001b[1;33m\u001b[0m\u001b[0m\n\u001b[0;32m    258\u001b[0m \u001b[1;33m\u001b[0m\u001b[0m\n\u001b[1;32m--> 259\u001b[1;33m     \u001b[0mshape\u001b[0m \u001b[1;33m=\u001b[0m \u001b[0m_broadcast_shape\u001b[0m\u001b[1;33m(\u001b[0m\u001b[1;33m*\u001b[0m\u001b[0margs\u001b[0m\u001b[1;33m)\u001b[0m\u001b[1;33m\u001b[0m\u001b[1;33m\u001b[0m\u001b[0m\n\u001b[0m\u001b[0;32m    260\u001b[0m \u001b[1;33m\u001b[0m\u001b[0m\n\u001b[0;32m    261\u001b[0m     \u001b[1;32mif\u001b[0m \u001b[0mall\u001b[0m\u001b[1;33m(\u001b[0m\u001b[0marray\u001b[0m\u001b[1;33m.\u001b[0m\u001b[0mshape\u001b[0m \u001b[1;33m==\u001b[0m \u001b[0mshape\u001b[0m \u001b[1;32mfor\u001b[0m \u001b[0marray\u001b[0m \u001b[1;32min\u001b[0m \u001b[0margs\u001b[0m\u001b[1;33m)\u001b[0m\u001b[1;33m:\u001b[0m\u001b[1;33m\u001b[0m\u001b[1;33m\u001b[0m\u001b[0m\n",
      "\u001b[1;32m~\\Anaconda3\\lib\\site-packages\\numpy\\lib\\stride_tricks.py\u001b[0m in \u001b[0;36m_broadcast_shape\u001b[1;34m(*args)\u001b[0m\n\u001b[0;32m    191\u001b[0m     \u001b[1;31m# use the old-iterator because np.nditer does not handle size 0 arrays\u001b[0m\u001b[1;33m\u001b[0m\u001b[1;33m\u001b[0m\u001b[1;33m\u001b[0m\u001b[0m\n\u001b[0;32m    192\u001b[0m     \u001b[1;31m# consistently\u001b[0m\u001b[1;33m\u001b[0m\u001b[1;33m\u001b[0m\u001b[1;33m\u001b[0m\u001b[0m\n\u001b[1;32m--> 193\u001b[1;33m     \u001b[0mb\u001b[0m \u001b[1;33m=\u001b[0m \u001b[0mnp\u001b[0m\u001b[1;33m.\u001b[0m\u001b[0mbroadcast\u001b[0m\u001b[1;33m(\u001b[0m\u001b[1;33m*\u001b[0m\u001b[0margs\u001b[0m\u001b[1;33m[\u001b[0m\u001b[1;33m:\u001b[0m\u001b[1;36m32\u001b[0m\u001b[1;33m]\u001b[0m\u001b[1;33m)\u001b[0m\u001b[1;33m\u001b[0m\u001b[1;33m\u001b[0m\u001b[0m\n\u001b[0m\u001b[0;32m    194\u001b[0m     \u001b[1;31m# unfortunately, it cannot handle 32 or more arguments directly\u001b[0m\u001b[1;33m\u001b[0m\u001b[1;33m\u001b[0m\u001b[1;33m\u001b[0m\u001b[0m\n\u001b[0;32m    195\u001b[0m     \u001b[1;32mfor\u001b[0m \u001b[0mpos\u001b[0m \u001b[1;32min\u001b[0m \u001b[0mrange\u001b[0m\u001b[1;33m(\u001b[0m\u001b[1;36m32\u001b[0m\u001b[1;33m,\u001b[0m \u001b[0mlen\u001b[0m\u001b[1;33m(\u001b[0m\u001b[0margs\u001b[0m\u001b[1;33m)\u001b[0m\u001b[1;33m,\u001b[0m \u001b[1;36m31\u001b[0m\u001b[1;33m)\u001b[0m\u001b[1;33m:\u001b[0m\u001b[1;33m\u001b[0m\u001b[1;33m\u001b[0m\u001b[0m\n",
      "\u001b[1;31mValueError\u001b[0m: shape mismatch: objects cannot be broadcast to a single shape"
     ]
    }
   ],
   "source": [
    "X = np.array([0, 1,6,4,7,-44])\n",
    "X.size\n",
    "X1_t = np.linspace(-4, 4, 1001)\n",
    "X2_t = np.linspace(-4, 4, 1001)\n",
    "X1, X2 = np.meshgrid(X1_t, X2_t)\n",
    "y = example_2d(X1, X2)\n",
    "\n",
    "%matplotlib qt\n",
    "\n",
    "fig = plt.figure()\n",
    "ax = fig.add_subplot(111, projection = '3d')\n",
    "ax.plot_wireframe(X1, X2, y, rstride = 30, cstride = 30)\n",
    "ax.plot_wireframe(X1, X2, y, rstride = 30, cstride = 30)\n",
    "interactive(True)\n",
    "plt.show()"
   ]
  }
 ],
 "metadata": {
  "kernelspec": {
   "display_name": "Python 3",
   "language": "python",
   "name": "python3"
  },
  "language_info": {
   "codemirror_mode": {
    "name": "ipython",
    "version": 3
   },
   "file_extension": ".py",
   "mimetype": "text/x-python",
   "name": "python",
   "nbconvert_exporter": "python",
   "pygments_lexer": "ipython3",
   "version": "3.7.4"
  }
 },
 "nbformat": 4,
 "nbformat_minor": 4
}
