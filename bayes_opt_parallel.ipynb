{
 "cells": [
  {
   "cell_type": "markdown",
   "metadata": {},
   "source": [
    "# Bayesian Optimization based on GP"
   ]
  },
  {
   "cell_type": "code",
   "execution_count": 1,
   "metadata": {},
   "outputs": [],
   "source": [
    "import numpy as np\n",
    "import sklearn.gaussian_process as gp\n",
    "from scipy.stats import norm\n",
    "from scipy.optimize import minimize\n",
    "from sklearn.gaussian_process.kernels import RBF, Matern\n",
    "import math\n",
    "import time\n",
    "from copy import deepcopy\n",
    "from multiprocessing import Process, Manager\n",
    "from acquisitions import EI, UCB\n",
    "from penalizers import LP, HLP\n",
    "from objectives import branin\n",
    "from parallel_BO import sample_next_parallel, acq_parallel, sample_callback"
   ]
  },
  {
   "cell_type": "markdown",
   "metadata": {},
   "source": [
    "![Figure 1-1](img/Capture.png \"Figure 1-1\")"
   ]
  },
  {
   "cell_type": "markdown",
   "metadata": {},
   "source": [
    "## Gaussian Process-based Bayesian Optimization, parallel implementation\n",
    "- HLP and LP penalizers for syncronous and ascyncronous BO\n",
    "- Locally and globally estimated L-constants"
   ]
  },
  {
   "cell_type": "code",
   "execution_count": 9,
   "metadata": {},
   "outputs": [],
   "source": [
    "def bayesian_optimization(n_iters, function, bounds, acq_func = UCB, penalizer = LP, local_L = True,\n",
    "                          X_init = None, n_init = 10, gp_params = None, find_min = True, alpha = 1e-5, epsilon = 1e-7):\n",
    "    \n",
    "    \n",
    "    \n",
    "    X_tested = []\n",
    "    y_tested = []\n",
    "    n_params = bounds.shape[0]\n",
    "    \n",
    "    if X_init is None:\n",
    "        X_init = np.random.uniform(bounds[:,0], bounds[:,1], (n_init, bounds.shape[0]))\n",
    "    \n",
    "    for X in X_init:\n",
    "        X_tested.append(X)\n",
    "        y_tested.append(function(X))\n",
    "    \n",
    "    X_np = np.array(X_tested)\n",
    "    y_np = np.array(y_tested)\n",
    "    \n",
    "    # creating the gaussian process\n",
    "    if gp_params is not None:\n",
    "        gaussian_process = gp.GaussianProcessRegressor(**args) \n",
    "    \n",
    "    else:\n",
    "        kernel = Matern()\n",
    "        gaussian_process = gp.GaussianProcessRegressor(\n",
    "            kernel = kernel, alpha = alpha, n_restarts_optimizer = 10, normalize_y = True)\n",
    "    \n",
    "    # CHANGES START HERE\n",
    "    # CHANGES START HERE\n",
    "    # CHANGES START HERE\n",
    "    \n",
    "    \n",
    "    for n in range(n_iters):\n",
    "\n",
    "        X_np = np.array(X_tested)\n",
    "        y_np = np.array(y_tested)\n",
    "        \n",
    "        gaussian_process.fit(X_tested, y_tested)\n",
    "        \n",
    "        #sampling of next point - can be done with random search (not implemented) or optimization of act_func\n",
    "        X_next = sample_next_parallel(acq_parallel, deepcopy(gaussian_process), X_eval, y_np, bounds, find_min = True, n_restarts = 10,\n",
    "                     acq_func = acq_func, penalizer = penalizer, local_L = local_L, X_under_eval = None)\n",
    "        \n",
    "        while np.any(np.abs(X_next - X_tested) <= epsilon):\n",
    "            X_next = sample_next_parallel(acq_parallel, gaussian_process, X_eval, y_np, bounds, find_min = True, n_restarts = 10,\n",
    "                     acq_func = acq_func, penalizer = penalizer, local_L = local_L, X_under_eval = None)\n",
    "            \n",
    "            print(X_next, 'has already been sampled.\\nIteration', n)\n",
    "        \n",
    "        y_next = function(X_next)\n",
    "        X_tested.append(X_next)\n",
    "        y_tested.append(y_next)\n",
    "        \n",
    "        # CHANGES END HERE\n",
    "        # CHANGES END HERE\n",
    "        # CHANGES END HERE\n",
    "\n",
    "    return X_tested, y_tested"
   ]
  },
  {
   "cell_type": "markdown",
   "metadata": {},
   "source": [
    "## Attempting to write logic for parallel - still to go"
   ]
  },
  {
   "cell_type": "code",
   "execution_count": 34,
   "metadata": {},
   "outputs": [],
   "source": [
    "def bayesian_optimization(n_iters, function, bounds, acq_func = UCB, penalizer = HLP, local_L = True,\n",
    "                          X_init = None, n_init = 10, gp_params = None, find_min = True, alpha = 1e-5, epsilon = 1e-7):\n",
    "    \n",
    "    \n",
    "    X_tested = []\n",
    "    y_tested = []\n",
    "    n_params = bounds.shape[0]\n",
    "    \n",
    "    if X_init is None:\n",
    "        X_init = np.random.uniform(bounds[:,0], bounds[:,1], (n_init, bounds.shape[0]))\n",
    "    \n",
    "    for X in X_init:\n",
    "        X_tested.append(X)\n",
    "        y_tested.append(function(X))\n",
    "    \n",
    "    # creating the gaussian process\n",
    "    if gp_params is not None:\n",
    "        gaussian_process = gp.GaussianProcessRegressor(**args) \n",
    "    \n",
    "    else:\n",
    "        kernel = Matern()\n",
    "        gaussian_process = gp.GaussianProcessRegressor(\n",
    "            kernel = kernel, alpha = alpha, n_restarts_optimizer = 10, normalize_y = True)\n",
    "        gaussian_process.fit(X_tested, y_tested)\n",
    "        \n",
    "    if __name__ == '__main__':\n",
    "\n",
    "        manager = Manager()\n",
    "        lock = manager.Lock()\n",
    "        process_list = [None] * n_processes\n",
    "        # tracks where the current processes are being evaluated\n",
    "        X_eval = manager.list([[0] * n_params] * n_processes)\n",
    "        output_X = manager.list(X_tested)\n",
    "        output_Y = manager.list(y_tested)\n",
    "       \n",
    "        # Initializing, iteration counts the iteration number\n",
    "        iteration = 0\n",
    "        for i in range(n_processes):\n",
    "            process_list[i] = Process(target=sample_callback, args = (X_eval, output_X, output_Y, lock, i, function,\n",
    "                acq_parallel, deepcopy(gaussian_process), np.array(X_eval), np.array(output_y), bounds, find_min,\n",
    "                acq_func, penalizer, local_L))\n",
    "            process_list[i].start()\n",
    "            print(f'Process {i +1} started')\n",
    "            iteration += 1\n",
    "        \n",
    "        while iteration < n_iters:\n",
    "            \n",
    "            # if the process is done\n",
    "            for i in range(n_processes):\n",
    "        \n",
    "                if not process_list[i].is_alive():\n",
    "\n",
    "                    # fit an updated gaussian process with copies of the output lists\n",
    "                    gaussian_process.fit(list(output_X), list(output_y))\n",
    "\n",
    "                    # then start a new process\n",
    "                    process_list[i] = Process(target=sample_callback, args = (X_eval, output_X, output_Y, lock, i, function,\n",
    "                        acq_parallel, deepcopy(gaussian_process), np.array(X_eval), np.array(output_y), bounds, find_min,\n",
    "                        acq_func, penalizer, local_L))\n",
    "                    process_list[i].start()\n",
    "                    print(f'Process {i +1} restarted')\n",
    "                    iteration += 1\n",
    "\n",
    "\n",
    "    return list(output_X), list(output_y)"
   ]
  },
  {
   "cell_type": "code",
   "execution_count": null,
   "metadata": {},
   "outputs": [],
   "source": []
  },
  {
   "cell_type": "markdown",
   "metadata": {},
   "source": [
    "## Testing of implementations so far"
   ]
  },
  {
   "cell_type": "code",
   "execution_count": 32,
   "metadata": {},
   "outputs": [
    {
     "data": {
      "text/plain": [
       "array([3.22062554, 1.65804109])"
      ]
     },
     "execution_count": 32,
     "metadata": {},
     "output_type": "execute_result"
    }
   ],
   "source": [
    "function = branin\n",
    "gp_params = None\n",
    "X_tested = []\n",
    "y_tested = []\n",
    "bounds = np.array([[-5, 10], [0, 15]])\n",
    "n_params = bounds.shape[0]\n",
    "n_init = 20\n",
    "X_init = None\n",
    "    \n",
    "if X_init is None:\n",
    "    X_init = np.random.uniform(bounds[:,0], bounds[:,1], (n_init, bounds.shape[0]))\n",
    "    \n",
    "for X in X_init:\n",
    "    X_tested.append(X)\n",
    "    y_tested.append(function(X))\n",
    "    \n",
    "X_np = np.array(X_tested)\n",
    "y_np = np.array(y_tested)\n",
    "    \n",
    "# creating the gaussian process\n",
    "if gp_params is not None:\n",
    "    gaussian_process = gp.GaussianProcessRegressor(**args) \n",
    "    \n",
    "else:\n",
    "    kernel = Matern()\n",
    "    gaussian_process = gp.GaussianProcessRegressor(\n",
    "        kernel = kernel, n_restarts_optimizer = 10, normalize_y = True)\n",
    "    \n",
    "        \n",
    "gaussian_process.fit(X_tested, y_tested)\n",
    "        \n",
    "X_eval = np.array([[2, 2], [6, 6], [-4, 1], [-3, 12]])\n",
    "sample_next_parallel(acq_parallel, gaussian_process, X_eval, y_np, bounds)"
   ]
  },
  {
   "cell_type": "markdown",
   "metadata": {},
   "source": [
    "# Starting the program"
   ]
  },
  {
   "cell_type": "code",
   "execution_count": null,
   "metadata": {},
   "outputs": [],
   "source": [
    "X_tested, y_tested = bayesian_optimization(200, branin, bounds = np.array([[-5, 10], [0, 15]]), n_init = 16, acq_func = UCB)\n",
    "\n",
    "best_value = np.min(y_tested)\n",
    "best_iter = np.argmin(y_tested)\n",
    "best_X = X_tested[best_iter]\n",
    "print(best_X, best_value, best_iter)\n"
   ]
  },
  {
   "cell_type": "code",
   "execution_count": 27,
   "metadata": {},
   "outputs": [
    {
     "data": {
      "text/plain": [
       "array([1, 2, 3])"
      ]
     },
     "execution_count": 27,
     "metadata": {},
     "output_type": "execute_result"
    }
   ],
   "source": [
    "X = [1,2,3]\n",
    "Y = np.array(X)\n",
    "X[1] = 4\n",
    "Y"
   ]
  }
 ],
 "metadata": {
  "kernelspec": {
   "display_name": "Python 3",
   "language": "python",
   "name": "python3"
  },
  "language_info": {
   "codemirror_mode": {
    "name": "ipython",
    "version": 3
   },
   "file_extension": ".py",
   "mimetype": "text/x-python",
   "name": "python",
   "nbconvert_exporter": "python",
   "pygments_lexer": "ipython3",
   "version": "3.7.4"
  }
 },
 "nbformat": 4,
 "nbformat_minor": 4
}
