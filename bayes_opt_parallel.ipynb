{
 "cells": [
  {
   "cell_type": "markdown",
   "metadata": {},
   "source": [
    "# Bayesian Optimization based on GP"
   ]
  },
  {
   "cell_type": "code",
   "execution_count": 1,
   "metadata": {},
   "outputs": [],
   "source": [
    "import numpy as np\n",
    "import sklearn.gaussian_process as gp\n",
    "from scipy.stats import norm\n",
    "from scipy.optimize import minimize\n",
    "from sklearn.gaussian_process.kernels import RBF, Matern\n",
    "import math\n",
    "import time\n",
    "from copy import deepcopy\n",
    "from functions import branin, EI, UCB, LP, HLP, compute_L\n",
    "from multiprocessing import Process, Queue, Array"
   ]
  },
  {
   "cell_type": "markdown",
   "metadata": {},
   "source": [
    "![Figure 1-1](Capture.png \"Figure 1-1\")"
   ]
  },
  {
   "cell_type": "markdown",
   "metadata": {},
   "source": [
    "## Gaussian Process-based Bayesian Optimization, parallel implementation\n",
    "- HLP and LP penalizers for syncronous and ascyncronous BO\n",
    "- Locally and globally estimated L-constants"
   ]
  },
  {
   "cell_type": "code",
   "execution_count": 4,
   "metadata": {},
   "outputs": [],
   "source": [
    " # same arguments as before, and bounds to limit the optimization as well as n_restarts to allow multiple optimization attempts\n",
    "def sample_next_parallel(acq_parallel, gaussian_process, X_eval, current_loss, bounds, find_min = True, n_restarts = 10,\n",
    "                     acq_func = UCB, penalizer = HLP, local_L = True, X_under_eval = None):\n",
    "    \n",
    "    X_best = None\n",
    "    best_acq_val = 999\n",
    "    n_params = bounds.shape[0]\n",
    "    \n",
    "    starting_points = np.random.uniform(bounds[:,0], bounds[:,1], size = (n_restarts, n_params))\n",
    "    \n",
    "    for point in starting_points:\n",
    "        result = minimize(acq_parallel, point.reshape(1, -1), method = 'L-BFGS-B', bounds = bounds, args = \n",
    "                          (acq_func, penalizer, gaussian_process, np.copy(X_eval), np.copy(current_loss), \n",
    "                        find_min, n_params, bounds, local_L))\n",
    "        \n",
    "        if result.fun < best_acq_val:\n",
    "            X_best = result.x\n",
    "            best_acq_val = result.fun\n",
    "            \n",
    "    return X_best\n",
    "\n",
    "\n",
    "def acq_parallel(X, acq_func, penalizer, gaussian_process, X_eval, current_loss, find_min, n_params, bounds, local_L):\n",
    "    \n",
    "    acq_value = acq_func(X, gaussian_process, current_loss, n_params, find_min)\n",
    "    penalty = penalizer(X, gaussian_process, X_eval, current_loss, n_params, find_min, bounds, local_L)\n",
    "    return acq_value * penalty\n",
    "\n",
    "\n",
    "# n_iters of attempts to optimize the objective, function, within bounds using n_random points to begin, or X_init\n",
    "# alpha = variance of error term over GP, epsilon - precision tol for float\n",
    "# three modes - standard (sequential evaluations), syncronous (new batches are evaluated with simultaneous start),\n",
    "# and asynchronous (new points are evaluated before batch is finished)\n",
    "def bayesian_optimization(n_iters, function, bounds, acq_func = UCB, penalizer = LP, local_L = True,\n",
    "                          X_init = None, n_init = 10, gp_params = None, find_min = True, alpha = 1e-5, epsilon = 1e-7):\n",
    "    \n",
    "    \n",
    "    \n",
    "    X_tested = []\n",
    "    y_tested = []\n",
    "    n_params = bounds.shape[0]\n",
    "    \n",
    "    if X_init is None:\n",
    "        X_init = np.random.uniform(bounds[:,0], bounds[:,1], (n_init, bounds.shape[0]))\n",
    "    \n",
    "    for X in X_init:\n",
    "        X_tested.append(X)\n",
    "        y_tested.append(function(X))\n",
    "    \n",
    "    X_np = np.array(X_tested)\n",
    "    y_np = np.array(y_tested)\n",
    "    \n",
    "    # creating the gaussian process\n",
    "    if gp_params is not None:\n",
    "        gaussian_process = gp.GaussianProcessRegressor(**args) \n",
    "    \n",
    "    else:\n",
    "        kernel = Matern()\n",
    "        gaussian_process = gp.GaussianProcessRegressor(\n",
    "            kernel = kernel, alpha = alpha, n_restarts_optimizer = 10, normalize_y = True)\n",
    "    \n",
    "    # CHANGES START HERE\n",
    "    # CHANGES START HERE\n",
    "    # CHANGES START HERE\n",
    "    \n",
    "    \n",
    "    for n in range(n_iters):\n",
    "\n",
    "        X_np = np.array(X_tested)\n",
    "        y_np = np.array(y_tested)\n",
    "        \n",
    "        gaussian_process.fit(X_tested, y_tested)\n",
    "        \n",
    "        #sampling of next point - can be done with random search (not implemented) or optimization of act_func\n",
    "        X_next = sample_next_parallel(acq_parallel, deepcopy(gaussian_process), X_eval, y_np, bounds, find_min = True, n_restarts = 10,\n",
    "                     acq_func = acq_func, penalizer = penalizer, local_L = local_L, X_under_eval = None)\n",
    "        \n",
    "        while np.any(np.abs(X_next - X_tested) <= epsilon):\n",
    "            X_next = sample_next_parallel(acq_parallel, gaussian_process, X_eval, y_np, bounds, find_min = True, n_restarts = 10,\n",
    "                     acq_func = acq_func, penalizer = penalizer, local_L = local_L, X_under_eval = None)\n",
    "            \n",
    "            print(X_next, 'has already been sampled.\\nIteration', n)\n",
    "        \n",
    "        y_next = function(X_next)\n",
    "        X_tested.append(X_next)\n",
    "        y_tested.append(y_next)\n",
    "        \n",
    "        # CHANGES END HERE\n",
    "        # CHANGES END HERE\n",
    "        # CHANGES END HERE\n",
    "\n",
    "    return X_tested, y_tested"
   ]
  },
  {
   "cell_type": "markdown",
   "metadata": {},
   "source": [
    "## Attempting to write logic for parallel - still to go"
   ]
  },
  {
   "cell_type": "code",
   "execution_count": null,
   "metadata": {},
   "outputs": [],
   "source": []
  },
  {
   "cell_type": "markdown",
   "metadata": {},
   "source": [
    "## Testing of implementations so far"
   ]
  },
  {
   "cell_type": "code",
   "execution_count": 6,
   "metadata": {},
   "outputs": [
    {
     "data": {
      "text/plain": [
       "array([3.82635339, 0.54879798])"
      ]
     },
     "execution_count": 6,
     "metadata": {},
     "output_type": "execute_result"
    }
   ],
   "source": [
    "function = branin\n",
    "gp_params = None\n",
    "X_tested = []\n",
    "y_tested = []\n",
    "bounds = np.array([[-5, 10], [0, 15]])\n",
    "n_params = bounds.shape[0]\n",
    "n_init = 20\n",
    "X_init = None\n",
    "    \n",
    "if X_init is None:\n",
    "    X_init = np.random.uniform(bounds[:,0], bounds[:,1], (n_init, bounds.shape[0]))\n",
    "    \n",
    "for X in X_init:\n",
    "    X_tested.append(X)\n",
    "    y_tested.append(function(X))\n",
    "    \n",
    "X_np = np.array(X_tested)\n",
    "y_np = np.array(y_tested)\n",
    "    \n",
    "# creating the gaussian process\n",
    "if gp_params is not None:\n",
    "    gaussian_process = gp.GaussianProcessRegressor(**args) \n",
    "    \n",
    "else:\n",
    "    kernel = Matern()\n",
    "    gaussian_process = gp.GaussianProcessRegressor(\n",
    "        kernel = kernel, n_restarts_optimizer = 10, normalize_y = True)\n",
    "x    \n",
    "        \n",
    "gaussian_process.fit(X_tested, y_tested)\n",
    "        \n",
    "X_eval = np.array([[2, 2], [6, 6], [-4, 1], [-3, 12]])\n",
    "sample_next_parallel(acq_parallel, gaussian_process, X_eval, y_np, bounds)"
   ]
  },
  {
   "cell_type": "markdown",
   "metadata": {},
   "source": [
    "# Starting the program"
   ]
  },
  {
   "cell_type": "code",
   "execution_count": null,
   "metadata": {},
   "outputs": [],
   "source": [
    "X_tested, y_tested = bayesian_optimization(200, branin, bounds = np.array([[-5, 10], [0, 15]]), n_init = 16, acq_func = UCB)\n",
    "\n",
    "best_value = np.min(y_tested)\n",
    "best_iter = np.argmin(y_tested)\n",
    "best_X = X_tested[best_iter]\n",
    "print(best_X, best_value, best_iter)\n"
   ]
  }
 ],
 "metadata": {
  "kernelspec": {
   "display_name": "Python 3",
   "language": "python",
   "name": "python3"
  },
  "language_info": {
   "codemirror_mode": {
    "name": "ipython",
    "version": 3
   },
   "file_extension": ".py",
   "mimetype": "text/x-python",
   "name": "python",
   "nbconvert_exporter": "python",
   "pygments_lexer": "ipython3",
   "version": "3.7.4"
  }
 },
 "nbformat": 4,
 "nbformat_minor": 4
}
