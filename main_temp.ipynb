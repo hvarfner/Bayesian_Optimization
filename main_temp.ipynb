{
 "cells": [
  {
   "cell_type": "markdown",
   "metadata": {},
   "source": [
    "# Compromized solution to imitate syncronous/asyncronous BO"
   ]
  },
  {
   "cell_type": "code",
   "execution_count": 1,
   "metadata": {},
   "outputs": [],
   "source": [
    "import numpy as np\n",
    "import sklearn.gaussian_process as gp\n",
    "from scipy.stats import norm\n",
    "from scipy.optimize import minimize\n",
    "from sklearn.gaussian_process.kernels import RBF, Matern\n",
    "import time\n",
    "from acquisitions import EI, UCB\n",
    "from penalizers import LP, HLP\n",
    "from objectives import branin\n",
    "from parallel_bo import sample_next_parallel, acq_parallel"
   ]
  },
  {
   "cell_type": "code",
   "execution_count": 3,
   "metadata": {},
   "outputs": [
    {
     "name": "stdout",
     "output_type": "stream",
     "text": [
      "[-5.0 13.83339725883287] just finished.\n",
      "Worker 2 finished. \n",
      " [10.0 2.5420560409002655] is being evaluated.\n",
      "[-5.0 11.740858410957282] just finished.\n",
      "Worker 0 finished. \n",
      " [-2.4396829995637495 10.880137624518323] is being evaluated.\n",
      "[-5.0 9.871889432554717] just finished.\n",
      "Worker 3 finished. \n",
      " [-4.537610922965888 15.0] is being evaluated.\n",
      "[10.0 2.5420560409002655] just finished.\n",
      "Worker 2 finished. \n",
      " [-5.0 3.601313953502835] is being evaluated.\n",
      "[-5.0 3.601313953502835] just finished.\n",
      "Worker 2 finished. \n",
      " [-5.0 10.02152113616782] is being evaluated.\n",
      "[-5.0 12.968292664608427] just finished.\n",
      "Worker 1 finished. \n",
      " [-5.0 0.0] is being evaluated.\n",
      "[-4.537610922965888 15.0] just finished.\n",
      "Worker 3 finished. \n",
      " [-1.9965650127042018 5.0420539290584] is being evaluated.\n",
      "[-5.0 0.0] just finished.\n",
      "Worker 1 finished. \n",
      " [-4.959359226602665 15.0] is being evaluated.\n",
      "[-1.9965650127042018 5.0420539290584] just finished.\n",
      "Worker 3 finished. \n",
      " [-5.0 0.0] is being evaluated.\n",
      "[-5.0 0.0] just finished.\n",
      "Worker 3 finished. \n",
      " [10.0 0.2810014188631591] is being evaluated.\n",
      "[-2.4396829995637495 10.880137624518323] just finished.\n",
      "Worker 0 finished. \n",
      " [-5.0 0.0] is being evaluated.\n",
      "[-5.0 0.0] just finished.\n",
      "Worker 0 finished. \n",
      " [-1.1758188964578216 5.700380062182096] is being evaluated.\n",
      "[-5.0 10.02152113616782] just finished.\n",
      "Worker 2 finished. \n",
      " [-1.9894187488716477 9.87306243543576] is being evaluated.\n",
      "[-1.1758188964578216 5.700380062182096] just finished.\n",
      "Worker 0 finished. \n",
      " [-4.95261237870895 0.0] is being evaluated.\n",
      "[-1.9894187488716477 9.87306243543576] just finished.\n",
      "Worker 2 finished. \n",
      " [-5.0 6.955682139657426] is being evaluated.\n",
      "[-4.959359226602665 15.0] just finished.\n",
      "Worker 1 finished. \n",
      " [2.7473740986831623 5.446059438056301] is being evaluated.\n",
      "[10.0 0.2810014188631591] just finished.\n",
      "Worker 3 finished. \n",
      " [-5.0 10.89710719182612] is being evaluated.\n",
      "[-5.0 10.89710719182612] just finished.\n",
      "Worker 3 finished. \n",
      " [10.0 3.7428410530303666] is being evaluated.\n",
      "[2.7473740986831623 5.446059438056301] just finished.\n",
      "Worker 1 finished. \n",
      " [-2.8662205773952065 10.590786560699977] is being evaluated.\n",
      "[-4.95261237870895 0.0] just finished.\n",
      "Worker 0 finished. \n",
      " [-5.0 15.0] is being evaluated.\n",
      "[-3.22696969 11.47252598] -0.9951662320219168 1\n"
     ]
    }
   ],
   "source": [
    "def bayesian_optimization(n_iters, function, bounds, acq_func = UCB, penalizer = HLP, local_L = True, n_processes = 4,\n",
    "                          X_init = None, n_init = 10, gp_params = None, find_min = True, alpha = 1e-5, epsilon = 1e-7):\n",
    "    \n",
    "    \n",
    "    X_tested = []\n",
    "    y_tested = []\n",
    "    n_params = bounds.shape[0]\n",
    "    \n",
    "    if X_init is None:\n",
    "        X_init = np.random.uniform(bounds[:,0], bounds[:,1], (n_init, bounds.shape[0]))\n",
    "    \n",
    "    for X in X_init:\n",
    "        X_tested.append(X)\n",
    "        y_tested.append(function(X))\n",
    "    \n",
    "    # numpy array of y needed for processes\n",
    "    y_np = np.array(y_tested)\n",
    "    \n",
    "    # creating the gaussian process\n",
    "    if gp_params is not None:\n",
    "        gaussian_process = gp.GaussianProcessRegressor(**args) \n",
    "    \n",
    "    else:\n",
    "        kernel = Matern()\n",
    "        gaussian_process = gp.GaussianProcessRegressor(\n",
    "            kernel = kernel, alpha = alpha, n_restarts_optimizer = 10, normalize_y = True)\n",
    "        gaussian_process.fit(X_tested, y_tested)\n",
    "\n",
    "    # Initializing, iteration counts the iteration number\n",
    "    iteration = 0\n",
    "    X_eval = X_eval = np.array([[None] * n_params] * n_processes)\n",
    "    for i in range(n_processes):\n",
    "        X_eval[i] = sample_next_parallel(acq_parallel, gaussian_process, np.array(X_eval), y_np, bounds, find_min = find_min,\n",
    "                                                       acq_func = acq_func, penalizer = penalizer, local_L = local_L)\n",
    "        \n",
    "    for i in range(n_iters):\n",
    "        \n",
    "        finished = np.random.randint(4)\n",
    "        print(f'{X_eval[finished]} just finished by worker {finished}.')\n",
    "        X_tested.append(X_eval[finished])\n",
    "        y_tested.append(function(X_eval[finished]))\n",
    "        y_np = np.array(y_tested)\n",
    "        \n",
    "        # fit an updated gaussian process\n",
    "        gaussian_process.fit(X_tested, y_tested)\n",
    "        \n",
    "        # then start a new process\n",
    "        X_eval[finished] = sample_next_parallel(acq_parallel, gaussian_process, X_eval, y_np, bounds, find_min = find_min,\n",
    "                                                       acq_func = acq_func, penalizer = penalizer, local_L = local_L)\n",
    "\n",
    "        print(f'{X_eval[finished]} is being evaluated.')\n",
    "    \n",
    "        time.sleep(1)\n",
    "\n",
    "    return X_tested, y_tested\n",
    "\n",
    "\n",
    "\n",
    "X_tested, y_tested = bayesian_optimization(20, branin, bounds = np.array([[-5, 10], [0, 15]]),\n",
    "                                               n_init = 16, acq_func = UCB, penalizer = HLP, local_L = True)\n",
    "\n",
    "\n",
    "best_value = np.min(y_tested)\n",
    "best_iter = np.argmin(y_tested)\n",
    "best_X = X_tested[best_iter]\n",
    "print(best_X, best_value, best_iter)"
   ]
  },
  {
   "cell_type": "code",
   "execution_count": 9,
   "metadata": {},
   "outputs": [
    {
     "data": {
      "text/plain": [
       "-0.9951662321003424"
      ]
     },
     "execution_count": 9,
     "metadata": {},
     "output_type": "execute_result"
    }
   ],
   "source": [
    "branin([-3.22696969, 11.47252598])"
   ]
  }
 ],
 "metadata": {
  "kernelspec": {
   "display_name": "Python 3",
   "language": "python",
   "name": "python3"
  },
  "language_info": {
   "codemirror_mode": {
    "name": "ipython",
    "version": 3
   },
   "file_extension": ".py",
   "mimetype": "text/x-python",
   "name": "python",
   "nbconvert_exporter": "python",
   "pygments_lexer": "ipython3",
   "version": "3.7.4"
  }
 },
 "nbformat": 4,
 "nbformat_minor": 4
}
