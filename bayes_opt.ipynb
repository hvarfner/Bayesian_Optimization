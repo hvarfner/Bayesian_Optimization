{
 "cells": [
  {
   "cell_type": "markdown",
   "metadata": {},
   "source": [
    "# Bayesian Optimization based on GP"
   ]
  },
  {
   "cell_type": "code",
   "execution_count": 2,
   "metadata": {},
   "outputs": [],
   "source": [
    "import numpy as np\n",
    "import sklearn.gaussian_process as gp\n",
    "from scipy.stats import norm\n",
    "from scipy.optimize import minimize\n",
    "from sklearn.gaussian_process.kernels import RBF"
   ]
  },
  {
   "cell_type": "markdown",
   "metadata": {},
   "source": [
    "## Gaussian Process-based Bayesian Optimization implemented\n",
    "- Starting with expected improvement acq. function\n",
    "- Going to add UCB"
   ]
  },
  {
   "cell_type": "code",
   "execution_count": 1,
   "metadata": {},
   "outputs": [],
   "source": [
    "# EI takes the measured x-values and the gaussian process object as well as the current evaluated loss\n",
    "# Boolean for maximizatioN/minimization\n",
    "def EI(X, gp, current_loss, n_params, find_min = True):\n",
    "    \n",
    "    X_pred = X.reshape(-1, n_params)\n",
    "    mu, std = gp.predict(X_pred, return_cov = True)\n",
    "    \n",
    "    if find_min:\n",
    "        best_loss = np.min(current_loss)\n",
    "    else:\n",
    "        best_loss = np.max(current_loss)\n",
    "    \n",
    "    # Normalize based on the GP posterior and account for max/min condition\n",
    "    sign_X = (-1) ** find_min\n",
    "    with np.errstate(divide = 'ignore'):\n",
    "        norm_X = sign_X * (mu - best_loss)/std\n",
    "        ei = mu * sign_X * (mu - best_loss) * norm.cdf(norm_X) + std * norm.pdf(norm_X)  \n",
    "        \n",
    "        # to exclude points with no standard deviation (likely alredy been tested)\n",
    "        ei[std == 0] = 0\n",
    "        return (-1) * ei\n",
    "\n",
    "\n",
    "# same arguments as before, and bounds to limit the optimization as well as n_restarts to allow multiple optimization attempts\n",
    "def sample_next_point(acq_func, gp, current_loss, find_min = True, bounds = (0, 1), n_restarts = 10):\n",
    "    \n",
    "    X_best = None\n",
    "    best_acq_val = 999\n",
    "    n_params = bounds.shape[0]\n",
    "    \n",
    "    starting_points = np.random.uniform(bounds[:,0], bounds[:,1], size = (n_params, n_restarts))\n",
    "    for point in starting_points:\n",
    "        result = minimize(acq_func, point.reshape[1, -1], method = 'L-BFGS-B', bounds = bounds, args = (gp, current_loss, n_params, find_min))\n",
    "        \n",
    "        if result.fun < best_acq_val:\n",
    "            X_best = result.x\n",
    "            best_acq_val = result.fun\n",
    "            \n",
    "    return X_best\n",
    "\n",
    "\n",
    "# n_iters of attempts to optimize the objective, function, within bounds using n_random points to begin, or X_init\n",
    "# alpha = variance of error term over GP, epsilon - precision tol for float\n",
    "def bayesian_optimization(n_iters, function, bounds, X_init = None, n_init = 10, gp_params = None, alpha = 1e-5, epsilon = 1e-7):\n",
    "    \n",
    "    X_tested = []\n",
    "    y_tested = []\n",
    "    n.params = bounds.shape[0]\n",
    "    \n",
    "    if X_init is None:\n",
    "        X_init = np.random.uniform(bounds[:,0], bounds[:,1], (n_init, bounds.shape[0]))\n",
    "    \n",
    "    for X in X_init:\n",
    "        X_tested.append(X)\n",
    "        y_tested.append(function(X))\n",
    "    \n",
    "    X_tested = np.array(X_tested)\n",
    "    y_tested = np.array(y_tested)\n",
    "    \n",
    "    # creating the gaussian process\n",
    "    gp = \n",
    "    "
   ]
  }
 ],
 "metadata": {
  "kernelspec": {
   "display_name": "Python 3",
   "language": "python",
   "name": "python3"
  },
  "language_info": {
   "codemirror_mode": {
    "name": "ipython",
    "version": 3
   },
   "file_extension": ".py",
   "mimetype": "text/x-python",
   "name": "python",
   "nbconvert_exporter": "python",
   "pygments_lexer": "ipython3",
   "version": "3.7.4"
  }
 },
 "nbformat": 4,
 "nbformat_minor": 4
}
