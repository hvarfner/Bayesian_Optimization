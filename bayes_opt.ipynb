{
 "cells": [
  {
   "cell_type": "markdown",
   "metadata": {},
   "source": [
    "# Bayesian Optimization based on GP"
   ]
  },
  {
   "cell_type": "code",
   "execution_count": null,
   "metadata": {},
   "outputs": [],
   "source": [
    "import numpy as np\n",
    "import sklearn.gaussian_process as gp\n",
    "from scipy.stats import norm\n",
    "from scipy.optimize import minimize\n",
    "from sklearn.gaussian_process.kernels import RBF, Matern\n",
    "import math\n",
    "import time\n"
   ]
  },
  {
   "cell_type": "markdown",
   "metadata": {},
   "source": [
    "## Gaussian Process-based Bayesian Optimization implemented\n",
    "- Starting with expected improvement acq. function\n",
    "- Going to add UCB"
   ]
  },
  {
   "cell_type": "code",
   "execution_count": null,
   "metadata": {},
   "outputs": [],
   "source": [
    "# EI takes the measured x-values and the gaussian process object as well as the current evaluated loss\n",
    "# Boolean for maximizatioN/minimization\n",
    "def EI(X, gaussian_process, current_loss, n_params, find_min = True, **args):\n",
    "    \n",
    "    X_pred = X.reshape(-1, n_params)\n",
    "    mu, std = gaussian_process.predict(X_pred, return_cov = True)\n",
    "    \n",
    "    if find_min:\n",
    "        best_loss = np.min(current_loss)\n",
    "    else:\n",
    "        best_loss = np.max(current_loss)\n",
    "    \n",
    "    # Normalize based on the GP posterior and account for max/min condition\n",
    "    sign_X = (-1) ** find_min\n",
    "    with np.errstate(divide = 'ignore'):\n",
    "        norm_X = sign_X * (mu - best_loss)/std\n",
    "        ei = mu * sign_X * (mu - best_loss) * norm.cdf(norm_X) + std * norm.pdf(norm_X)  \n",
    "        \n",
    "        # to exclude points with no standard deviation (likely alredy been tested)\n",
    "        ei[std == 0] = 0\n",
    "        return (-1) * ei\n",
    "\n",
    "    \n",
    "# UCB takes the same input as EI for simplicity, even though it does not need all of them\n",
    "def UCB(X, gaussian_process, current_loss, n_params, find_min = True, kappa = 4):\n",
    "    \n",
    "    X_pred = X.reshape(-1, n_params)\n",
    "    mu, std = gaussian_process.predict(X_pred, return_cov = True)\n",
    "    \n",
    "    sign_X = (-1) ** find_min\n",
    "    ucb = mu + std * sign_X * kappa\n",
    "    \n",
    "    return ucb\n",
    "    \n",
    "    \n",
    "    \n",
    "\n",
    "# same arguments as before, and bounds to limit the optimization as well as n_restarts to allow multiple optimization attempts\n",
    "def sample_next_point(acq_func, gaussian_process, current_loss, find_min = True, bounds = (0, 1), n_restarts = 10):\n",
    "    \n",
    "    X_best = None\n",
    "    best_acq_val = 999\n",
    "    n_params = bounds.shape[0]\n",
    "    \n",
    "    starting_points = np.random.uniform(bounds[:,0], bounds[:,1], size = (n_restarts, n_params))\n",
    "    for point in starting_points:\n",
    "        result = minimize(acq_func, point.reshape(1, -1), method = 'L-BFGS-B', bounds = bounds, args = \n",
    "                          (gaussian_process, current_loss, n_params, find_min))\n",
    "        \n",
    "        if result.fun < best_acq_val:\n",
    "            X_best = result.x\n",
    "            best_acq_val = result.fun\n",
    "            \n",
    "    return X_best\n",
    "\n",
    "\n",
    "# n_iters of attempts to optimize the objective, function, within bounds using n_random points to begin, or X_init\n",
    "# alpha = variance of error term over GP, epsilon - precision tol for float\n",
    "# three modes - standard (sequential evaluations), syncronous (new batches are evaluated with simultaneous start),\n",
    "# and asynchronous (new points are evaluated before batch is finished)\n",
    "def bayesian_optimization(n_iters, function, bounds, mode = 'standard',\n",
    "                          X_init = None, n_init = 10, gp_params = None, find_min = True, alpha = 1e-5, epsilon = 1e-7, acq_func = EI):\n",
    "    \n",
    "    \n",
    "    \n",
    "    X_tested = []\n",
    "    y_tested = []\n",
    "    n_params = bounds.shape[0]\n",
    "    \n",
    "    if X_init is None:\n",
    "        X_init = np.random.uniform(bounds[:,0], bounds[:,1], (n_init, bounds.shape[0]))\n",
    "    \n",
    "    for X in X_init:\n",
    "        X_tested.append(X)\n",
    "        y_tested.append(function(X))\n",
    "    \n",
    "    X_np = np.array(X_tested)\n",
    "    y_np = np.array(y_tested)\n",
    "    \n",
    "    # creating the gaussian process\n",
    "    if gp_params is not None:\n",
    "        gaussian_process = gp.GaussianProcessRegressor(**args) \n",
    "    \n",
    "    else:\n",
    "        kernel = Matern()\n",
    "        gaussian_process = gp.GaussianProcessRegressor(\n",
    "            kernel = kernel, alpha = alpha, n_restarts_optimizer = 10, normalize_y = True)\n",
    "    \n",
    "    # CHANGES START HERE\n",
    "    \n",
    "    \n",
    "    for n in range(n_iters):\n",
    "\n",
    "        X_np = np.array(X_tested)\n",
    "        y_np = np.array(y_tested)\n",
    "        \n",
    "        gaussian_process.fit(X_tested, y_tested)\n",
    "        \n",
    "        #sampling of next point - can be done with random search (not implemented) or optimization of act_func\n",
    "        X_next = sample_next_point(acq_func, gaussian_process, y_tested, find_min, bounds = bounds, n_restarts = 10)\n",
    "        \n",
    "        while np.any(np.abs(X_next - X_tested) <= epsilon):\n",
    "            X_next = sample_next_point(acq_func, gaussian_process, y_tested, find_min, bounds = bounds, n_restarts = 10)\n",
    "            print(X_next, 'has already been sampled.\\nIteration', n)\n",
    "        \n",
    "        y_next = function(X_next)\n",
    "        X_tested.append(X_next)\n",
    "        y_tested.append(y_next)\n",
    "        \n",
    "    return X_tested, y_tested"
   ]
  },
  {
   "cell_type": "markdown",
   "metadata": {},
   "source": [
    "## Testing the implementation on Branin-Hoo"
   ]
  },
  {
   "cell_type": "code",
   "execution_count": null,
   "metadata": {},
   "outputs": [],
   "source": [
    "\n",
    "def branin(X):\n",
    "\n",
    "    result = np.square(X[1] - (5.1/(4*np.square(math.pi)))*np.square(X[0]) + \n",
    "         (5/math.pi)*X[0] - 6) + 10*(1-(1./(8*math.pi)))*np.cos(X[0]) + 10\n",
    "    \n",
    "    result = float(result)\n",
    "    noise = np.random.normal() * 0.\n",
    "    \n",
    "    time_sleep = np.random.randint(1, 3)\n",
    "    #print ('result:', result, '\\nobserved:', noise + result, '\\nSleeping for', time_sleep, 'seconds.')\n",
    "    #time.sleep(time_sleep)\n",
    "    return result + noise"
   ]
  },
  {
   "cell_type": "code",
   "execution_count": null,
   "metadata": {},
   "outputs": [],
   "source": [
    "branin([-5, 0.54584535])"
   ]
  },
  {
   "cell_type": "code",
   "execution_count": null,
   "metadata": {},
   "outputs": [],
   "source": [
    "X_tested, y_tested = bayesian_optimization(200, branin, bounds = np.array([[-5, 10], [0, 15]]), n_init = 16, acq_func = UCB)\n",
    "\n",
    "best_value = np.min(y_tested)\n",
    "best_iter = np.argmin(y_tested)\n",
    "best_X = X_tested[best_iter]\n",
    "print(best_X, best_value, best_iter)\n"
   ]
  },
  {
   "cell_type": "markdown",
   "metadata": {},
   "source": [
    "![Figure 1-1](Capture.png \"Figure 1-1\")"
   ]
  },
  {
   "cell_type": "markdown",
   "metadata": {},
   "source": [
    "## Attempting to implement parallell evaluations\n",
    "- evaluating the function is what takes time (implement time.sleep)\n",
    "- Implement sync/async mode"
   ]
  },
  {
   "cell_type": "code",
   "execution_count": null,
   "metadata": {},
   "outputs": [],
   "source": [
    "import multiprocessing as mp\n",
    "print(\"Number of processors: \", mp.cpu_count())\n"
   ]
  },
  {
   "cell_type": "code",
   "execution_count": 34,
   "metadata": {},
   "outputs": [],
   "source": [
    "# UCB takes the same input as EI for simplicity, even though it does not need all of them\n",
    "def LP(X, X_eval, mu_eval, std_eval):\n",
    "    \n",
    "    L = 2\n",
    "    M = 1\n",
    "    n_under_eval = X_eval.shape[0]\n",
    "    # X, X_eval must be row vectors. Are they? Shape (n_under_eval, 2) otherwise reshape\n",
    "    \n",
    "    dists = np.array([np.linalg.norm(X - x) for x in X_eval])\n",
    "    Z = [1 / (std_eval[i] * np.sqrt(2)) * (L * dists[i] - M + mu_eval[i]) for i in range(n_under_eval)]\n",
    "    penalties = [0.5 * math.erfc((-1) * Z[i]) for i in range(n_under_eval)]\n",
    "    \n",
    "    return np.prod(penalties)\n",
    "\n",
    "def HLP(X, X_eval,  mu_eval, std_eval, gamma = 1):\n",
    "    \n",
    "    L = 2\n",
    "    M = 1\n",
    "    n_under_eval = X_eval.shape[0]\n",
    "    # X, X_eval must be row vectors. Are they? Shape (n_under_eval, 2) otherwise reshape\n",
    "    \n",
    "    dists = np.array([np.linalg.norm(X - x) for x in X_eval])\n",
    "    penalties = [dists[i] / (mu_eval[i] - M + gamma * std_eval[i] / L) for i in range(n_under_eval)]\n",
    "    penalties = np.minimum(penalties, 1).tolist()\n",
    "\n",
    "    return np.prod(penalties)\n"
   ]
  },
  {
   "cell_type": "code",
   "execution_count": null,
   "metadata": {},
   "outputs": [],
   "source": []
  }
 ],
 "metadata": {
  "kernelspec": {
   "display_name": "Python 3",
   "language": "python",
   "name": "python3"
  },
  "language_info": {
   "codemirror_mode": {
    "name": "ipython",
    "version": 3
   },
   "file_extension": ".py",
   "mimetype": "text/x-python",
   "name": "python",
   "nbconvert_exporter": "python",
   "pygments_lexer": "ipython3",
   "version": "3.7.4"
  }
 },
 "nbformat": 4,
 "nbformat_minor": 4
}
