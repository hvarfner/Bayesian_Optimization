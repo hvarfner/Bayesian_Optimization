{
 "cells": [
  {
   "cell_type": "markdown",
   "metadata": {},
   "source": [
    "# Bayesian Optimization based on GP"
   ]
  },
  {
   "cell_type": "code",
   "execution_count": 2,
   "metadata": {},
   "outputs": [],
   "source": [
    "import numpy as np\n",
    "import sklearn.gaussian_process as gp\n",
    "from scipy.stats import norm\n",
    "from scipy.optimize import minimize\n",
    "from sklearn.gaussian_process.kernels import RBF"
   ]
  },
  {
   "cell_type": "markdown",
   "metadata": {},
   "source": [
    "## Utility functions\n",
    "- Starting with expected improvement\n",
    "- Going to add UCB"
   ]
  },
  {
   "cell_type": "code",
   "execution_count": 6,
   "metadata": {},
   "outputs": [],
   "source": [
    "# EI takes the measured x-values and the gaussian process object as well as the current evaluated loss\n",
    "# Boolean for maximizatioN/minimization\n",
    "def EI(X, gp, current_loss, n_params, find_min = True):\n",
    "    \n",
    "    X_pred = X.reshape(-1, n_params)\n",
    "    mu, std = gp.predict(X_pred, return_cov = True)\n",
    "    \n",
    "    if find_min:\n",
    "        best_loss = np.min(current_loss)\n",
    "    else:\n",
    "        best_loss = np.max(current_loss)\n",
    "    \n",
    "    # Normalize based on the GP posterior and account for max/min condition\n",
    "    sign_X = (-1) ** find_min\n",
    "    with np.errstate(divide = 'ignore'):\n",
    "        norm_X = sign_X * (mu - best_loss)/std\n",
    "        ei = mu * sign_X * (mu - best_loss) * norm.cdf(norm_X) + std * norm.pdf(norm_X)  \n",
    "        \n",
    "        # to exclude points with no standard deviation (likely alredy been tested)\n",
    "        ei[std == 0] = 0\n",
    "        return (-1) * ei\n",
    "\n",
    "\n",
    "        "
   ]
  },
  {
   "cell_type": "code",
   "execution_count": 5,
   "metadata": {},
   "outputs": [
    {
     "data": {
      "text/plain": [
       "0"
      ]
     },
     "execution_count": 5,
     "metadata": {},
     "output_type": "execute_result"
    }
   ],
   "source": [
    "b = True\n",
    "(-1) * (not b)"
   ]
  }
 ],
 "metadata": {
  "kernelspec": {
   "display_name": "Python 3",
   "language": "python",
   "name": "python3"
  },
  "language_info": {
   "codemirror_mode": {
    "name": "ipython",
    "version": 3
   },
   "file_extension": ".py",
   "mimetype": "text/x-python",
   "name": "python",
   "nbconvert_exporter": "python",
   "pygments_lexer": "ipython3",
   "version": "3.7.4"
  }
 },
 "nbformat": 4,
 "nbformat_minor": 4
}
