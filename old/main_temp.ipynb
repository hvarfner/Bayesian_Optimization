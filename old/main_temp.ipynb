{
 "cells": [
  {
   "cell_type": "markdown",
   "metadata": {},
   "source": [
    "# Compromized solution to imitate syncronous/asyncronous BO"
   ]
  },
  {
   "cell_type": "code",
   "execution_count": 2,
   "metadata": {},
   "outputs": [],
   "source": [
    "import pandas as pd\n",
    "import numpy as np\n",
    "import sklearn.gaussian_process as gp\n",
    "from scipy.stats import norm\n",
    "from scipy.optimize import minimize\n",
    "from sklearn.gaussian_process.kernels import RBF, Matern\n",
    "import time\n",
    "from acquisitions import EI, UCB\n",
    "from penalizers import LP, HLP\n",
    "from objectives import branin\n",
    "from parallel_bo import sample_next_parallel, acq_parallel"
   ]
  },
  {
   "cell_type": "code",
   "execution_count": 70,
   "metadata": {},
   "outputs": [],
   "source": [
    "def bayesian_optimization(n_iters, function, bounds, acq_func = UCB, penalizer = HLP, local_L = True, n_processes = 4,\n",
    "                          X_init = None, n_init = 10, gp_params = None, find_min = True, alpha = 1e-5, epsilon = 1e-7, verbose = True):\n",
    "    \n",
    "    \n",
    "    X_tested = []\n",
    "    y_tested = []\n",
    "    n_params = bounds.shape[0]\n",
    "    \n",
    "    if X_init is None:\n",
    "        X_init = np.random.uniform(bounds[:,0], bounds[:,1], (n_init, bounds.shape[0]))\n",
    "    \n",
    "    for X in X_init:\n",
    "        X_tested.append(X)\n",
    "        y_tested.append(function(X))\n",
    "    \n",
    "    # numpy array of y needed for processes\n",
    "    y_np = np.array(y_tested)\n",
    "    \n",
    "    # creating the gaussian process\n",
    "    if gp_params is not None:\n",
    "        gaussian_process = gp.GaussianProcessRegressor(**args) \n",
    "    \n",
    "    else:\n",
    "        kernel = Matern()\n",
    "        gaussian_process = gp.GaussianProcessRegressor(\n",
    "            kernel = kernel, alpha = alpha, n_restarts_optimizer = 10, normalize_y = True)\n",
    "        gaussian_process.fit(X_tested, y_tested)\n",
    "\n",
    "    # Initializing, iteration counts the iteration number\n",
    "    iteration = 0\n",
    "    X_eval = X_eval = np.array([[None] * n_params] * n_processes)\n",
    "    for i in range(n_processes):\n",
    "        X_eval[i] = sample_next_parallel(acq_parallel, gaussian_process, np.array(X_eval), y_np, bounds, find_min = find_min,\n",
    "                                                       acq_func = acq_func, penalizer = penalizer, local_L = local_L)\n",
    "        if verbose:\n",
    "            print(f'{X_eval[i]} is being evaluated.')\n",
    "    \n",
    "        \n",
    "    for i in range(n_iters):\n",
    "        \n",
    "        if verbose:\n",
    "            print(f'{X_eval[finished]} just finished by worker {finished}.')\n",
    "            \n",
    "        finished = np.random.randint(4)\n",
    "        X_tested.append([val for val in X_eval[finished]])\n",
    "        y_tested.append(function(X_eval[finished]))\n",
    "        y_np = np.array(y_tested)\n",
    "        \n",
    "        # fit an updated gaussian process\n",
    "        gaussian_process.fit(X_tested, y_tested)\n",
    "        \n",
    "        # then start a new process\n",
    "        X_eval[finished] = sample_next_parallel(acq_parallel, gaussian_process, X_eval, y_np, bounds, find_min = find_min,\n",
    "                                                       acq_func = acq_func, penalizer = penalizer, local_L = local_L)\n",
    "        \n",
    "        if verbose:\n",
    "            print(f'{X_eval[finished]} is being evaluated.')\n",
    "    \n",
    "        time.sleep(1)\n",
    "\n",
    "    return X_tested, y_tested\n"
   ]
  },
  {
   "cell_type": "markdown",
   "metadata": {},
   "source": [
    "## Sample both LP and HLP for project, then investigate whether locality has positive impact "
   ]
  },
  {
   "cell_type": "code",
   "execution_count": 95,
   "metadata": {},
   "outputs": [],
   "source": [
    "names = ['Local LP', 'Local HLP', 'Global LP', 'Global HLP']\n",
    "results = {}\n",
    "no_tests = 30\n",
    "\n",
    "ctr = 0\n",
    "for local_L in [True, False]:\n",
    "    \n",
    "    for penalizer in [LP, HLP]:\n",
    "        \n",
    "        for run in range(no_tests):\n",
    "            X_tested, y_tested = bayesian_optimization(20, branin, bounds = np.array([[-5, 10], [0, 15]]),\n",
    "                                               n_init = 10, acq_func = UCB, penalizer = penalizer, local_L = local_L, verbose = False)\n",
    "            \n",
    "            results[names[ctr] + str(run)] = (np.array(y_tested) * 400 + 400).tolist()\n",
    "    \n",
    "        ctr += 1\n",
    "\n",
    "\n",
    "\n",
    "# minimum = ~ -0.999 with normalization"
   ]
  },
  {
   "cell_type": "code",
   "execution_count": 9,
   "metadata": {},
   "outputs": [
    {
     "name": "stdout",
     "output_type": "stream",
     "text": [
      "[True, 'HLP']\n",
      "[False, 'LP']\n"
     ]
    }
   ],
   "source": [
    "for row in [[True, 'HLP'], [False, 'LP']]:\n",
    "    print (row)"
   ]
  }
 ],
 "metadata": {
  "kernelspec": {
   "display_name": "Python 3",
   "language": "python",
   "name": "python3"
  },
  "language_info": {
   "codemirror_mode": {
    "name": "ipython",
    "version": 3
   },
   "file_extension": ".py",
   "mimetype": "text/x-python",
   "name": "python",
   "nbconvert_exporter": "python",
   "pygments_lexer": "ipython3",
   "version": "3.7.4"
  }
 },
 "nbformat": 4,
 "nbformat_minor": 4
}
